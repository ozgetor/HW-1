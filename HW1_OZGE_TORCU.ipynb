{
 "cells": [
  {
   "cell_type": "code",
   "execution_count": 1,
   "metadata": {},
   "outputs": [],
   "source": [
    "import random\n",
    "import numpy as np\n",
    "import matplotlib.pyplot as plt\n",
    "%matplotlib inline"
   ]
  },
  {
   "cell_type": "code",
   "execution_count": 2,
   "metadata": {},
   "outputs": [],
   "source": [
    "# akış ve uzaklık matrikslerinin oluşturulması\n",
    "dist = [\n",
    "    [0, 1, 1, 2, 3],\n",
    "    [1, 0, 2, 1, 2],\n",
    "    [1, 2, 0, 1, 2],\n",
    "    [2, 1, 1, 0, 1],\n",
    "    [3, 2, 2, 1, 0]\n",
    "]\n",
    "\n",
    "flow = [\n",
    "    [0, 5, 2, 4, 1],\n",
    "    [5, 0, 3, 0, 2],\n",
    "    [2, 3, 0, 0, 0],\n",
    "    [4, 0, 0, 0, 5],\n",
    "    [1, 2, 0, 5, 0]\n",
    "]\n",
    "\n",
    "# np arrayine dönüştürme \n",
    "flow = np.array(flow)\n",
    "dist = np.array(dist)"
   ]
  },
  {
   "cell_type": "code",
   "execution_count": 3,
   "metadata": {},
   "outputs": [],
   "source": [
    "# maaliyet fonksiyonu\n",
    "def cost(matrix, flow=flow, dist=dist):\n",
    "    cost = flow*dist\n",
    "    return np.sum(cost)\n",
    "\n",
    "# önerilen çözümün maaliyeti\n",
    "def solution_cost(solution, flow=flow, dist=dist):\n",
    "    cost = flow[np.ix_(solution, solution)]*dist\n",
    "    return np.sum(cost)\n",
    "    "
   ]
  },
  {
   "cell_type": "code",
   "execution_count": 4,
   "metadata": {},
   "outputs": [],
   "source": [
    "# yeni çözüm önerileri üretiliyor\n",
    "\n",
    "# swapping \n",
    "def generate_neighbors(current):\n",
    "    neighbors = np.zeros((10, len(current) +2), dtype=int)\n",
    "    idx = 0\n",
    "    for i in range (len(current)):\n",
    "        j=i+1\n",
    "        for j in range(len(current)):\n",
    "            if  i<j:\n",
    "                # swapping\n",
    "                current[j], current[i] = current[i], current[j] \n",
    "                neighbors[idx, :-2] = current\n",
    "                neighbors[idx, -2:] = [current[i], current[j]]\n",
    "                current[i], current[j] = current[j], current[i]\n",
    "                idx += 1\n",
    "                \n",
    "    return neighbors\n",
    "\n",
    "# yeni önerilerden biri random seçiliyor\n",
    "def get_neighbor(current):\n",
    "    return random.choice(generate_neighbors(current))[:-2]\n",
    "    "
   ]
  },
  {
   "cell_type": "code",
   "execution_count": 5,
   "metadata": {},
   "outputs": [],
   "source": [
    "# kabul olasılığı\n",
    "def acceptance_prob(delta, T):\n",
    "    return np.exp(-delta/T) > random.random()\n"
   ]
  },
  {
   "cell_type": "code",
   "execution_count": 6,
   "metadata": {},
   "outputs": [],
   "source": [
    "# başlangıç olarak random bir çözüm\n",
    "def init_solution():\n",
    "    return random.sample(range(len(flow)), len(flow))\n",
    "\n",
    "def simulated_annealing(flow=flow, dist=dist):\n",
    "    solutions = []\n",
    "    current = init_solution()\n",
    "    \n",
    "    current_cost = solution_cost(current)\n",
    "    solutions.append(current)\n",
    "    best_solution = current\n",
    "    best_cost = solution_cost(best_solution)\n",
    "    \n",
    "    \n",
    "    T = 10000\n",
    "    T_min = 0.001\n",
    "    alpha = 0.9\n",
    "    \n",
    "    while T > T_min: \n",
    "        # yeni çözüm üret\n",
    "        new_solution = get_neighbor(current)\n",
    "        new_cost = solution_cost(new_solution)\n",
    "        solutions.append(new_solution)\n",
    "        \n",
    "        # çözümü kabul et ya da etme\n",
    "        if new_cost < current_cost | acceptance_prob(new_cost - current_cost, T):\n",
    "            current = new_solution\n",
    "            current_cost = solution_cost(current)\n",
    "        \n",
    "        # en iyi çözümü elde et\n",
    "        if current_cost < best_cost:\n",
    "            best_solution = current\n",
    "            best_cost = solution_cost(best_solution)\n",
    "            \n",
    "        # her iterasyonda sıcaklık güncelleme\n",
    "        T = T*alpha\n",
    "        \n",
    "    return best_solution, solutions\n"
   ]
  },
  {
   "cell_type": "code",
   "execution_count": 7,
   "metadata": {},
   "outputs": [
    {
     "name": "stdout",
     "output_type": "stream",
     "text": [
      "Initial solution:  [2, 5, 4, 3, 1] Initial Cost:  90\n",
      "After 154 later..\n",
      "Best Solution: [4, 5, 1, 2, 3] Best Cost: 50\n"
     ]
    },
    {
     "data": {
      "image/png": "[encoded data removed]",
      "text/plain": [
       "<Figure size 432x288 with 1 Axes>"
      ]
     },
     "metadata": {
      "needs_background": "light"
     },
     "output_type": "display_data"
    }
   ],
   "source": [
    "# seed deneylerde aynı randomluk olsun diye\n",
    "np.random.seed(3)\n",
    "random.seed(3)\n",
    "\n",
    "solution, solutions = simulated_annealing()\n",
    "print(\"Initial solution: \", [i+1 for i in solutions[0]] , \"Initial Cost: \", solution_cost(solutions[0]))\n",
    "print(\"After\", len(solutions), \"later..\")\n",
    "print(\"Best Solution:\", [i+1 for i in solution], \"Best Cost:\", solution_cost(solution))\n",
    "\n",
    "costs = [solution_cost(sol) for sol in solutions]\n",
    "plt.plot(costs, \"r\", label=\"Cost\")\n",
    "plt.title(\"Costs\")\n",
    "plt.legend()\n",
    "plt.xlabel(\"Iteration\")\n",
    "plt.ylabel(\"Cost\")\n",
    "plt.ylim((min(costs) - 3, max(costs) + 3))\n",
    "plt.grid()\n",
    "plt.show()"
   ]
  },
  {
   "cell_type": "code",
   "execution_count": null,
   "metadata": {},
   "outputs": [],
   "source": []
  }
 ],
 "metadata": {
  "kernelspec": {
   "display_name": "Python 3",
   "language": "python",
   "name": "python3"
  },
  "language_info": {
   "codemirror_mode": {
    "name": "ipython",
    "version": 3
   },
   "file_extension": ".py",
   "mimetype": "text/x-python",
   "name": "python",
   "nbconvert_exporter": "python",
   "pygments_lexer": "ipython3",
   "version": "3.9.5"
  }
 },
 "nbformat": 4,
 "nbformat_minor": 4
}
